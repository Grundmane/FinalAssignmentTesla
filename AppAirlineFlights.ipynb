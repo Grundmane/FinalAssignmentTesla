{
  "nbformat": 4,
  "nbformat_minor": 0,
  "metadata": {
    "colab": {
      "provenance": [],
      "authorship_tag": "ABX9TyPv3XWXfgptpfPuKg+1URM7",
      "include_colab_link": true
    },
    "kernelspec": {
      "name": "python3",
      "display_name": "Python 3"
    },
    "language_info": {
      "name": "python"
    }
  },
  "cells": [
    {
      "cell_type": "markdown",
      "metadata": {
        "id": "view-in-github",
        "colab_type": "text"
      },
      "source": [
        "<a href=\"https://colab.research.google.com/github/Grundmane/FinalAssignmentTesla/blob/main/AppAirlineFlights.ipynb\" target=\"_parent\"><img src=\"https://colab.research.google.com/assets/colab-badge.svg\" alt=\"Open In Colab\"/></a>"
      ]
    },
    {
      "cell_type": "code",
      "source": [
        "pip install dash"
      ],
      "metadata": {
        "colab": {
          "base_uri": "https://localhost:8080/"
        },
        "id": "0zfZF8QKCSPu",
        "outputId": "22ae501a-818e-490e-a0aa-8f8e31815524"
      },
      "execution_count": 1,
      "outputs": [
        {
          "output_type": "stream",
          "name": "stdout",
          "text": [
            "Collecting dash\n",
            "  Downloading dash-2.11.1-py3-none-any.whl (10.4 MB)\n",
            "\u001b[2K     \u001b[90m━━━━━━━━━━━━━━━━━━━━━━━━━━━━━━━━━━━━━━━━\u001b[0m \u001b[32m10.4/10.4 MB\u001b[0m \u001b[31m69.7 MB/s\u001b[0m eta \u001b[36m0:00:00\u001b[0m\n",
            "\u001b[?25hRequirement already satisfied: Flask<2.3.0,>=1.0.4 in /usr/local/lib/python3.10/dist-packages (from dash) (2.2.5)\n",
            "Collecting Werkzeug<2.3.0 (from dash)\n",
            "  Downloading Werkzeug-2.2.3-py3-none-any.whl (233 kB)\n",
            "\u001b[2K     \u001b[90m━━━━━━━━━━━━━━━━━━━━━━━━━━━━━━━━━━━━━━\u001b[0m \u001b[32m233.6/233.6 kB\u001b[0m \u001b[31m24.0 MB/s\u001b[0m eta \u001b[36m0:00:00\u001b[0m\n",
            "\u001b[?25hRequirement already satisfied: plotly>=5.0.0 in /usr/local/lib/python3.10/dist-packages (from dash) (5.13.1)\n",
            "Collecting dash-html-components==2.0.0 (from dash)\n",
            "  Downloading dash_html_components-2.0.0-py3-none-any.whl (4.1 kB)\n",
            "Collecting dash-core-components==2.0.0 (from dash)\n",
            "  Downloading dash_core_components-2.0.0-py3-none-any.whl (3.8 kB)\n",
            "Collecting dash-table==5.0.0 (from dash)\n",
            "  Downloading dash_table-5.0.0-py3-none-any.whl (3.9 kB)\n",
            "Requirement already satisfied: typing-extensions>=4.1.1 in /usr/local/lib/python3.10/dist-packages (from dash) (4.7.1)\n",
            "Requirement already satisfied: requests in /usr/local/lib/python3.10/dist-packages (from dash) (2.27.1)\n",
            "Collecting retrying (from dash)\n",
            "  Downloading retrying-1.3.4-py3-none-any.whl (11 kB)\n",
            "Collecting ansi2html (from dash)\n",
            "  Downloading ansi2html-1.8.0-py3-none-any.whl (16 kB)\n",
            "Requirement already satisfied: nest-asyncio in /usr/local/lib/python3.10/dist-packages (from dash) (1.5.6)\n",
            "Requirement already satisfied: Jinja2>=3.0 in /usr/local/lib/python3.10/dist-packages (from Flask<2.3.0,>=1.0.4->dash) (3.1.2)\n",
            "Requirement already satisfied: itsdangerous>=2.0 in /usr/local/lib/python3.10/dist-packages (from Flask<2.3.0,>=1.0.4->dash) (2.1.2)\n",
            "Requirement already satisfied: click>=8.0 in /usr/local/lib/python3.10/dist-packages (from Flask<2.3.0,>=1.0.4->dash) (8.1.4)\n",
            "Requirement already satisfied: tenacity>=6.2.0 in /usr/local/lib/python3.10/dist-packages (from plotly>=5.0.0->dash) (8.2.2)\n",
            "Requirement already satisfied: MarkupSafe>=2.1.1 in /usr/local/lib/python3.10/dist-packages (from Werkzeug<2.3.0->dash) (2.1.3)\n",
            "Requirement already satisfied: urllib3<1.27,>=1.21.1 in /usr/local/lib/python3.10/dist-packages (from requests->dash) (1.26.16)\n",
            "Requirement already satisfied: certifi>=2017.4.17 in /usr/local/lib/python3.10/dist-packages (from requests->dash) (2023.5.7)\n",
            "Requirement already satisfied: charset-normalizer~=2.0.0 in /usr/local/lib/python3.10/dist-packages (from requests->dash) (2.0.12)\n",
            "Requirement already satisfied: idna<4,>=2.5 in /usr/local/lib/python3.10/dist-packages (from requests->dash) (3.4)\n",
            "Requirement already satisfied: six>=1.7.0 in /usr/local/lib/python3.10/dist-packages (from retrying->dash) (1.16.0)\n",
            "Installing collected packages: dash-table, dash-html-components, dash-core-components, Werkzeug, retrying, ansi2html, dash\n",
            "  Attempting uninstall: Werkzeug\n",
            "    Found existing installation: Werkzeug 2.3.6\n",
            "    Uninstalling Werkzeug-2.3.6:\n",
            "      Successfully uninstalled Werkzeug-2.3.6\n",
            "Successfully installed Werkzeug-2.2.3 ansi2html-1.8.0 dash-2.11.1 dash-core-components-2.0.0 dash-html-components-2.0.0 dash-table-5.0.0 retrying-1.3.4\n"
          ]
        }
      ]
    },
    {
      "cell_type": "code",
      "execution_count": 2,
      "metadata": {
        "colab": {
          "base_uri": "https://localhost:8080/",
          "height": 156
        },
        "id": "F_aJJ1jAB13t",
        "outputId": "ebbe86c6-e31b-487d-8051-0d0250abb913"
      },
      "outputs": [
        {
          "output_type": "stream",
          "name": "stderr",
          "text": [
            "<ipython-input-2-0ba2fecc9a38>:4: UserWarning: \n",
            "The dash_html_components package is deprecated. Please replace\n",
            "`import dash_html_components as html` with `from dash import html`\n",
            "  import dash_html_components as html\n",
            "<ipython-input-2-0ba2fecc9a38>:5: UserWarning: \n",
            "The dash_core_components package is deprecated. Please replace\n",
            "`import dash_core_components as dcc` with `from dash import dcc`\n",
            "  import dash_core_components as dcc\n"
          ]
        }
      ],
      "source": [
        "#Import libraries\n",
        "import pandas as pd\n",
        "import dash\n",
        "import dash_html_components as html\n",
        "import dash_core_components as dcc\n",
        "from dash.dependencies import Input, Output, State\n",
        "import plotly.graph_objects as go\n",
        "import plotly.express as px\n",
        "from dash import no_update"
      ]
    },
    {
      "cell_type": "code",
      "source": [
        "#Read the airline data\n",
        "airline_data =  pd.read_csv('https://cf-courses-data.s3.us.cloud-object-storage.appdomain.cloud/IBMDeveloperSkillsNetwork-DV0101EN-SkillsNetwork/Data%20Files/airline_data.csv',\n",
        "                            encoding = \"ISO-8859-1\",\n",
        "                            dtype={'Div1Airport': str, 'Div1TailNum': str,\n",
        "                                   'Div2Airport': str, 'Div2TailNum': str})"
      ],
      "metadata": {
        "id": "oskBwegoB3K2"
      },
      "execution_count": 3,
      "outputs": []
    },
    {
      "cell_type": "code",
      "source": [
        "#List of years\n",
        "year_list = [i for i in range(2005, 2021, 1)]"
      ],
      "metadata": {
        "id": "YhsfaZn3B5Rx"
      },
      "execution_count": 4,
      "outputs": []
    },
    {
      "cell_type": "code",
      "source": [
        "def compute_data_choice_1(df):\n",
        "    #Cancellation Category Count for Bar Chart\n",
        "    bar_data = df.groupby(['Month','CancellationCode'])['Flights'].sum().reset_index()\n",
        "    #Average flight time by reporting airline\n",
        "    line_data = df.groupby(['Month','Reporting_Airline'])['AirTime'].mean().reset_index()\n",
        "    #Diverted Airport Landings\n",
        "    div_data = df[df['DivAirportLandings'] != 0.0]\n",
        "    #Source state count\n",
        "    map_data = df.groupby(['OriginState'])['Flights'].sum().reset_index()\n",
        "    #Destination state count\n",
        "    tree_data = df.groupby(['DestState', 'Reporting_Airline'])['Flights'].sum().reset_index()\n",
        "    return bar_data, line_data, div_data, map_data, tree_data\n",
        "\n",
        "def compute_data_choice_2(df):\n",
        "    #Compute delay average\n",
        "    avg_car = df.groupby(['Month','Reporting_Airline'])['CarrierDelay'].mean().reset_index()\n",
        "    avg_weather = df.groupby(['Month','Reporting_Airline'])['WeatherDelay'].mean().reset_index()\n",
        "    avg_NAS = df.groupby(['Month','Reporting_Airline'])['NASDelay'].mean().reset_index()\n",
        "    avg_sec = df.groupby(['Month','Reporting_Airline'])['SecurityDelay'].mean().reset_index()\n",
        "    avg_late = df.groupby(['Month','Reporting_Airline'])['LateAircraftDelay'].mean().reset_index()\n",
        "    return avg_car, avg_weather, avg_NAS, avg_sec, avg_late"
      ],
      "metadata": {
        "id": "jrL7C9bICpgd"
      },
      "execution_count": 5,
      "outputs": []
    },
    {
      "cell_type": "code",
      "source": [
        "#Create dash application and clear the layout until callback executed\n",
        "app = dash.Dash(__name__)\n",
        "\n",
        "#Set the application to show the graphs after callback\n",
        "app.config.suppress_callback_exceptions = True"
      ],
      "metadata": {
        "id": "xFCzG9_0CrhM"
      },
      "execution_count": 6,
      "outputs": []
    },
    {
      "cell_type": "code",
      "source": [
        "# Application layout\n",
        "app.layout = html.Div(children=[\n",
        "                                html.H1('US Domestic Airline Flights Performance',\n",
        "                                style={'textAlign': 'center', 'color': '#503D36',\n",
        "                                'font-size': 24}),\n",
        "\n",
        "                                #Outer division\n",
        "                                html.Div([\n",
        "                                    #Inner division 1\n",
        "                                    html.Div([\n",
        "                                        html.Div(\n",
        "                                            [\n",
        "                                            html.H2('Report Type:', style={'margin-right': '2em'}),\n",
        "                                            ]\n",
        "                                                ),\n",
        "                                         dcc.Dropdown(id='input-type',\n",
        "                                                    options=[\n",
        "                                                    {'label': 'Yearly Airline Performance Report', 'value': 'OPT1'},\n",
        "                                                    {'label': 'Yearly Airline Delay Report', 'value': 'OPT2'}\n",
        "                                                    ],\n",
        "                                                    placeholder='Select a report type',\n",
        "                                                    style={'width': '80%', 'padding': '3px', 'font size': '20px', 'text-align-last': 'center'})],\n",
        "                                                    style={'display':'flex'}),\n",
        "\n",
        "                                    #Inner division 2\n",
        "                                    html.Div([\n",
        "                                         html.Div(\n",
        "                                            [\n",
        "                                            html.H2('Choose Year:', style={'margin-right': '2em'}),\n",
        "                                            ]\n",
        "                                                ),\n",
        "                                        dcc.Dropdown(id='input-year',\n",
        "                                                     # Update dropdown values using list comphrehension\n",
        "                                                     options=[{'label': i, 'value': i} for i in year_list],\n",
        "                                                     placeholder=\"Select a year\",\n",
        "                                                     style={'width':'80%', 'padding':'3px', 'font-size': '20px', 'text-align-last' : 'center'}),\n",
        "                                            # Place them next to each other using the division style\n",
        "                                            ], style={'display': 'flex'}),\n",
        "                                          ]),\n",
        "\n",
        "                                # Add computer graphs to be updated during callback\n",
        "                                #1st division\n",
        "                                html.Div([ ], id='plot1'),\n",
        "                                #2nd division\n",
        "                                html.Div([\n",
        "                                        html.Div([ ], id='plot2'),\n",
        "                                        html.Div([ ], id='plot3')\n",
        "                                ], style={'display': 'flex'}),\n",
        "                                #3rd division\n",
        "                                html.Div([\n",
        "                                        html.Div([ ], id='plot4'),\n",
        "                                        html.Div([ ], id='plot5')\n",
        "                                ], style={'display': 'flex'})])\n",
        "\n",
        "#Create the callback\n",
        "\n",
        "@app.callback([Output(component_id='plot1', component_property='children'),\n",
        "               Output(component_id='plot2', component_property='children'),\n",
        "               Output(component_id='plot3', component_property='children'),\n",
        "               Output(component_id='plot4', component_property='children'),\n",
        "               Output(component_id='plot5', component_property='children')],\n",
        "              [Input(component_id='input-type', component_property='value'),\n",
        "               Input(component_id='input-year', component_property='value')],\n",
        "               #Holding output state till user enters all the form information (type of chart and year)\n",
        "              [State(\"plot1\", 'children'), State(\"plot2\", \"children\"),\n",
        "               State(\"plot3\", \"children\"), State(\"plot4\", \"children\"),\n",
        "               State(\"plot5\", \"children\")\n",
        "              ])\n",
        "\n",
        "\n",
        "\n",
        "# Add computation to callback function and return graph\n",
        "def get_graph(chart, year, children1, children2, c3, c4, c5):\n",
        "\n",
        "        # Select data\n",
        "        df =  airline_data[airline_data['Year']== year]\n",
        "\n",
        "        if chart == 'OPT1':\n",
        "            # Compute required information for creating graph from the data\n",
        "            bar_data, line_data, div_data, map_data, tree_data = compute_data_choice_1(df)\n",
        "\n",
        "            # Number of flights under different cancellation categories\n",
        "            bar_fig = px.bar(bar_data, x='Month', y='Flights', color='CancellationCode', title='Monthly Flight Cancellation')\n",
        "\n",
        "            # Average flight time by reporting airline\n",
        "            line_fig = px.line(line_data, x ='Month', y='AirTime', color = 'Reporting_Airline', title = 'Average monthly flight time (minutes) by airline.')\n",
        "\n",
        "            # Percentage of diverted airport landings per reporting airline\n",
        "            pie_fig = px.pie(div_data, values='Flights', names='Reporting_Airline', title='% of flights by reporting airline')\n",
        "\n",
        "            # Number of flights flying from each state using choropleth\n",
        "            map_fig = px.choropleth(map_data,  # Input data\n",
        "                    locations='OriginState',\n",
        "                    color='Flights',\n",
        "                    hover_data=['OriginState', 'Flights'],\n",
        "                    locationmode = 'USA-states', # Set to plot as US States\n",
        "                    color_continuous_scale='GnBu',\n",
        "                    range_color=[0, map_data['Flights'].max()])\n",
        "            map_fig.update_layout(\n",
        "                    title_text = 'Number of flights from origin state',\n",
        "                    geo_scope='usa') # Plot only the USA instead of globe\n",
        "\n",
        "            # Number of flights flying to each state from each reporting airline\n",
        "            tree_fig = px.treemap(tree_data, path=['DestState', 'Reporting_Airline'],\n",
        "                      values='Flights',\n",
        "                      color='Reporting_Airline',\n",
        "                      color_continuous_scale='RdBu',\n",
        "                      title='Flight count by airline to destination state'\n",
        "                )\n",
        "            return [dcc.Graph(figure=tree_fig),\n",
        "                    dcc.Graph(figure=pie_fig),\n",
        "                    dcc.Graph(figure=map_fig),\n",
        "                    dcc.Graph(figure=bar_fig),\n",
        "                    dcc.Graph(figure=line_fig)\n",
        "                   ]\n",
        "\n",
        "        else:\n",
        "            # Charts under \"Flight Delay Time Statistics Dashboard\" section\n",
        "            # Compute required information for creating graph from the data\n",
        "            avg_car, avg_weather, avg_NAS, avg_sec, avg_late = compute_data_choice_2(df)\n",
        "\n",
        "            # Create graph\n",
        "            carrier_fig = px.line(avg_car, x='Month', y='CarrierDelay', color='Reporting_Airline', title='Average carrrier delay time (minutes) by airline')\n",
        "            weather_fig = px.line(avg_weather, x='Month', y='WeatherDelay', color='Reporting_Airline', title='Average weather delay time (minutes) by airline')\n",
        "            nas_fig = px.line(avg_NAS, x='Month', y='NASDelay', color='Reporting_Airline', title='Average NAS delay time (minutes) by airline')\n",
        "            sec_fig = px.line(avg_sec, x='Month', y='SecurityDelay', color='Reporting_Airline', title='Average security delay time (minutes) by airline')\n",
        "            late_fig = px.line(avg_late, x='Month', y='LateAircraftDelay', color='Reporting_Airline', title='Average late aircraft delay time (minutes) by airline')\n",
        "\n",
        "            return[dcc.Graph(figure=carrier_fig),\n",
        "                   dcc.Graph(figure=weather_fig),\n",
        "                   dcc.Graph(figure=nas_fig),\n",
        "                   dcc.Graph(figure=sec_fig),\n",
        "                   dcc.Graph(figure=late_fig)]\n",
        "\n",
        "# Run the app\n",
        "if __name__ == '__main__':\n",
        "    app.run_server()"
      ],
      "metadata": {
        "colab": {
          "base_uri": "https://localhost:8080/",
          "height": 671
        },
        "id": "-Qp7oSpdCtv7",
        "outputId": "242f45e3-f6ca-42b6-e492-7de8ff3d7ec5"
      },
      "execution_count": 7,
      "outputs": [
        {
          "output_type": "display_data",
          "data": {
            "text/plain": [
              "<IPython.core.display.Javascript object>"
            ],
            "application/javascript": [
              "(async (port, path, width, height, cache, element) => {\n",
              "    if (!google.colab.kernel.accessAllowed && !cache) {\n",
              "      return;\n",
              "    }\n",
              "    element.appendChild(document.createTextNode(''));\n",
              "    const url = await google.colab.kernel.proxyPort(port, {cache});\n",
              "    const iframe = document.createElement('iframe');\n",
              "    iframe.src = new URL(path, url).toString();\n",
              "    iframe.height = height;\n",
              "    iframe.width = width;\n",
              "    iframe.style.border = 0;\n",
              "    iframe.allow = [\n",
              "        'accelerometer',\n",
              "        'autoplay',\n",
              "        'camera',\n",
              "        'clipboard-read',\n",
              "        'clipboard-write',\n",
              "        'gyroscope',\n",
              "        'magnetometer',\n",
              "        'microphone',\n",
              "        'serial',\n",
              "        'usb',\n",
              "        'xr-spatial-tracking',\n",
              "    ].join('; ');\n",
              "    element.appendChild(iframe);\n",
              "  })(8050, \"/\", \"100%\", 650, false, window.element)"
            ]
          },
          "metadata": {}
        }
      ]
    }
  ]
}